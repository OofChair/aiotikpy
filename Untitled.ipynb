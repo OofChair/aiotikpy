{
 "cells": [
  {
   "cell_type": "code",
   "execution_count": 3,
   "metadata": {},
   "outputs": [
    {
     "name": "stdout",
     "output_type": "stream",
     "text": [
      "Collecting TikPy\n",
      "  Using cached https://files.pythonhosted.org/packages/f5/3d/4bc2ddada5e5c27f72092e6cc7a0d92ba639506a03923589bc0461182a1b/TikPy-0.1.tar.gz\n",
      "Collecting json (from TikPy)\n",
      "\u001b[31m  ERROR: Could not find a version that satisfies the requirement json (from TikPy) (from versions: none)\u001b[0m\n",
      "\u001b[31mERROR: No matching distribution found for json (from TikPy)\u001b[0m\n"
     ]
    }
   ],
   "source": [
    "!pip install TikPy"
   ]
  }
 ],
 "metadata": {
  "kernelspec": {
   "display_name": "Python 3",
   "language": "python",
   "name": "python3"
  },
  "language_info": {
   "codemirror_mode": {
    "name": "ipython",
    "version": 3
   },
   "file_extension": ".py",
   "mimetype": "text/x-python",
   "name": "python",
   "nbconvert_exporter": "python",
   "pygments_lexer": "ipython3",
   "version": "3.7.4"
  }
 },
 "nbformat": 4,
 "nbformat_minor": 2
}
